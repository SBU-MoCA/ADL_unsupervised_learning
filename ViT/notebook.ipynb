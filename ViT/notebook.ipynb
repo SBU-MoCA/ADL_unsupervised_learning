{
 "cells": [
  {
   "cell_type": "code",
   "execution_count": null,
   "metadata": {},
   "outputs": [],
   "source": [
    "import sys\n",
    "sys.path.append(\"/home/mengjingliu/ADL_unsupervised_learning/\")\n",
    "from ReprogramLLM.data_loader import load_dataFile, resize_tensor\n",
    "import matplotlib.pyplot as plt\n",
    "import torch"
   ]
  },
  {
   "cell_type": "code",
   "execution_count": null,
   "metadata": {},
   "outputs": [],
   "source": [
    "def plot_doppler(data, title=\"\"):\n",
    "    plt.figure(figsize=(8, 6))  # Set the figure size as desired\n",
    "    plt.imshow(data, cmap='hot', interpolation='nearest')\n",
    "    plt.colorbar()  # Show color scale\n",
    "    plt.title(title)\n",
    "    plt.show()"
   ]
  },
  {
   "cell_type": "code",
   "execution_count": null,
   "metadata": {},
   "outputs": [],
   "source": [
    "path_list = [\"/home/mengjingliu/Vid2Doppler/data/2023_07_19/HAR6\",\n",
    "\t\t\t\t\"/home/mengjingliu/Vid2Doppler/data/2023_07_19/HAR5\",\n",
    "\t\t\t\t\"/home/mengjingliu/Vid2Doppler/data/2023_07_19/HAR4\",\n",
    "\t\t\t\t\"/home/mengjingliu/Vid2Doppler/data/2023_11_17/HAR3\",\n",
    "\t\t\t\t\"/home/mengjingliu/Vid2Doppler/data/2023_07_19/HAR2\"]\n",
    "\n",
    "train_data, train_label, test_data, test_label = load_dataFile(path_list, train_size=0.8)\n",
    "train_data_re, test_data_re = resize_tensor(train_data, test_data)\n",
    "\n",
    "train_data, test_data = train_data.numpy(), test_data.numpy()\n",
    "train_data_re, test_data_re = train_data_re.numpy(), test_data_re.numpy()"
   ]
  },
  {
   "cell_type": "code",
   "execution_count": null,
   "metadata": {},
   "outputs": [],
   "source": [
    "for i in range(10):\n",
    "    plot_doppler(train_data[i][0], title=\"original\")\n",
    "    plot_doppler(train_data_re[i][0], title=\"resized\")\n"
   ]
  },
  {
   "cell_type": "code",
   "execution_count": 2,
   "metadata": {},
   "outputs": [
    {
     "name": "stderr",
     "output_type": "stream",
     "text": [
      "/home/mengjingliu/.local/lib/python3.8/site-packages/tqdm/auto.py:21: TqdmWarning: IProgress not found. Please update jupyter and ipywidgets. See https://ipywidgets.readthedocs.io/en/stable/user_install.html\n",
      "  from .autonotebook import tqdm as notebook_tqdm\n"
     ]
    }
   ],
   "source": [
    "# test ViT\n",
    "import sys\n",
    "sys.path.append(\"/home/mengjingliu/ADL_unsupervised_learning/\")\n",
    "import datetime\n",
    "from torchmetrics import Accuracy\n",
    "from ReprogramLLM.data_loader import wrapper_dataLoader\n",
    "from transformers import ViTForImageClassification\n",
    "import torch\n",
    "from torch.optim import Adam\n",
    "from transformers import get_scheduler\n",
    "from tqdm.auto import tqdm\n",
    "from torch.optim.lr_scheduler import ExponentialLR\n",
    "import numpy as np\n",
    "from torchsummary import summary\n",
    "import torch.nn as nn\n",
    "import logging\n",
    "import os"
   ]
  },
  {
   "cell_type": "code",
   "execution_count": 3,
   "metadata": {},
   "outputs": [
    {
     "name": "stderr",
     "output_type": "stream",
     "text": [
      "Some weights of ViTForImageClassification were not initialized from the model checkpoint at google/vit-base-patch16-224-in21k and are newly initialized: ['classifier.bias', 'classifier.weight']\n",
      "You should probably TRAIN this model on a down-stream task to be able to use it for predictions and inference.\n"
     ]
    },
    {
     "data": {
      "text/plain": [
       "<All keys matched successfully>"
      ]
     },
     "execution_count": 3,
     "metadata": {},
     "output_type": "execute_result"
    }
   ],
   "source": [
    "# load model from .pth\n",
    "model_name_or_path = \"google/vit-base-patch16-224-in21k\"\n",
    "title = model_name_or_path.replace('/', '_') + \"_standard\"\n",
    "# Load a pre-trained Vision Transformer model\n",
    "model = ViTForImageClassification.from_pretrained(model_name_or_path, num_labels=5)\n",
    "device = torch.device(\"cuda:0\" if torch.cuda.is_available() else \"cpu\")\n",
    "# Move model to device\n",
    "model.to(device)\n",
    "# Load the state dict\n",
    "state_dict = torch.load('/home/mengjingliu/ADL_unsupervised_learning/ViT/results/best_model_google_vit-base-patch16-224-in21k_standard.pth')\n",
    "\n",
    "# Load the state dict into the model\n",
    "model.load_state_dict(state_dict)"
   ]
  },
  {
   "cell_type": "code",
   "execution_count": 4,
   "metadata": {},
   "outputs": [],
   "source": [
    "# load test data from .npy\n",
    "import torch.nn.functional as F\n",
    "X_test = np.load(\"/home/mengjingliu/ADL_unsupervised_learning/ViT/X_test.npy\")\n",
    "y_test = np.load(\"/home/mengjingliu/ADL_unsupervised_learning/ViT/y_test.npy\")\n",
    "\n",
    "X_test, y_test = torch.from_numpy(X_test).float(), torch.from_numpy(y_test).long()\n",
    "X_test = F.interpolate(X_test, size=(224, 224), mode='bilinear', align_corners=False)\n",
    "X_test = X_test.repeat(1, 3, 1, 1)"
   ]
  },
  {
   "cell_type": "code",
   "execution_count": 5,
   "metadata": {},
   "outputs": [
    {
     "name": "stdout",
     "output_type": "stream",
     "text": [
      "Testing accuracy: 0.8481675386428833\n"
     ]
    }
   ],
   "source": [
    "# evaluate model \n",
    "model.eval()\n",
    "with torch.no_grad():\n",
    "    inputs = X_test.to(device)\n",
    "    outputs = model(inputs).logits.to(\"cpu\")\n",
    "\n",
    "accuracy = Accuracy(task=\"multiclass\", num_classes=5).to(device)\n",
    "accuracy = accuracy(outputs, y_test)\n",
    "print(f'Testing accuracy: {accuracy}')\n"
   ]
  },
  {
   "cell_type": "code",
   "execution_count": null,
   "metadata": {},
   "outputs": [],
   "source": []
  }
 ],
 "metadata": {
  "kernelspec": {
   "display_name": "llm",
   "language": "python",
   "name": "python3"
  },
  "language_info": {
   "codemirror_mode": {
    "name": "ipython",
    "version": 3
   },
   "file_extension": ".py",
   "mimetype": "text/x-python",
   "name": "python",
   "nbconvert_exporter": "python",
   "pygments_lexer": "ipython3",
   "version": "3.8.19"
  }
 },
 "nbformat": 4,
 "nbformat_minor": 2
}
