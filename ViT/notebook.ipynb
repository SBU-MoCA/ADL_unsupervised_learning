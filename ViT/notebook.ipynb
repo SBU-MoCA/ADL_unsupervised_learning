{
 "cells": [
  {
   "cell_type": "code",
   "execution_count": null,
   "metadata": {},
   "outputs": [],
   "source": [
    "import sys\n",
    "sys.path.append(\"/home/mengjingliu/ADL_unsupervised_learning/\")\n",
    "from ReprogramLLM.data_loader import load_dataFile, resize_tensor\n",
    "import matplotlib.pyplot as plt\n",
    "import torch"
   ]
  },
  {
   "cell_type": "code",
   "execution_count": null,
   "metadata": {},
   "outputs": [],
   "source": [
    "def plot_doppler(data, title=\"\"):\n",
    "    plt.figure(figsize=(8, 6))  # Set the figure size as desired\n",
    "    plt.imshow(data, cmap='hot', interpolation='nearest')\n",
    "    plt.colorbar()  # Show color scale\n",
    "    plt.title(title)\n",
    "    plt.show()"
   ]
  },
  {
   "cell_type": "code",
   "execution_count": null,
   "metadata": {},
   "outputs": [],
   "source": [
    "path_list = [\"/home/mengjingliu/Vid2Doppler/data/2023_07_19/HAR6\",\n",
    "\t\t\t\t\"/home/mengjingliu/Vid2Doppler/data/2023_07_19/HAR5\",\n",
    "\t\t\t\t\"/home/mengjingliu/Vid2Doppler/data/2023_07_19/HAR4\",\n",
    "\t\t\t\t\"/home/mengjingliu/Vid2Doppler/data/2023_11_17/HAR3\",\n",
    "\t\t\t\t\"/home/mengjingliu/Vid2Doppler/data/2023_07_19/HAR2\"]\n",
    "\n",
    "train_data, train_label, test_data, test_label = load_dataFile(path_list, train_size=0.8)\n",
    "train_data_re, test_data_re = resize_tensor(train_data, test_data)\n",
    "\n",
    "train_data, test_data = train_data.numpy(), test_data.numpy()\n",
    "train_data_re, test_data_re = train_data_re.numpy(), test_data_re.numpy()"
   ]
  },
  {
   "cell_type": "code",
   "execution_count": null,
   "metadata": {},
   "outputs": [],
   "source": [
    "for i in range(10):\n",
    "    plot_doppler(train_data[i][0], title=\"original\")\n",
    "    plot_doppler(train_data_re[i][0], title=\"resized\")\n"
   ]
  },
  {
   "cell_type": "code",
   "execution_count": 5,
   "metadata": {},
   "outputs": [],
   "source": [
    "# test ViT\n",
    "import sys\n",
    "sys.path.append(\"/home/mengjingliu/ADL_unsupervised_learning/\")\n",
    "import datetime\n",
    "from torchmetrics import Accuracy\n",
    "from ReprogramLLM.data_loader import wrapper_dataLoader\n",
    "from transformers import ViTForImageClassification\n",
    "import torch\n",
    "from torch.optim import Adam\n",
    "from transformers import get_scheduler\n",
    "from tqdm.auto import tqdm\n",
    "from torch.optim.lr_scheduler import ExponentialLR\n",
    "import numpy as np\n",
    "from torchsummary import summary\n",
    "import torch.nn as nn\n",
    "import logging\n",
    "import os"
   ]
  },
  {
   "cell_type": "code",
   "execution_count": null,
   "metadata": {},
   "outputs": [],
   "source": [
    "# load model from .pth\n",
    "model_name_or_path = \"google/vit-base-patch16-224-in21k\"\n",
    "title = model_name_or_path.replace('/', '_') + \"_standard\"\n",
    "# Load a pre-trained Vision Transformer model\n",
    "model = ViTForImageClassification.from_pretrained(model_name_or_path, num_labels=5)\n",
    "device = torch.device(\"cuda:0\" if torch.cuda.is_available() else \"cpu\")\n",
    "# Move model to device\n",
    "model.to(device)\n",
    "# Load the state dict\n",
    "state_dict = torch.load('/home/mengjingliu/ADL_unsupervised_learning/ViT/results/best_model_smallViT_google_vit-base-patch16-224-in21k.pth')\n",
    "\n",
    "# Load the state dict into the model\n",
    "model.load_state_dict(state_dict)"
   ]
  },
  {
   "cell_type": "code",
   "execution_count": 15,
   "metadata": {},
   "outputs": [
    {
     "name": "stderr",
     "output_type": "stream",
     "text": [
      "Some weights of ViTForImageClassification were not initialized from the model checkpoint at google/vit-base-patch16-224-in21k and are newly initialized: ['classifier.bias', 'classifier.weight']\n",
      "You should probably TRAIN this model on a down-stream task to be able to use it for predictions and inference.\n",
      "Some weights of ViTForImageClassification were not initialized from the model checkpoint at google/vit-base-patch16-224-in21k and are newly initialized because the shapes did not match:\n",
      "- embeddings.cls_token: found shape torch.Size([1, 1, 768]) in the checkpoint and torch.Size([1, 1, 128]) in the model instantiated\n",
      "- embeddings.patch_embeddings.projection.bias: found shape torch.Size([768]) in the checkpoint and torch.Size([128]) in the model instantiated\n",
      "- embeddings.patch_embeddings.projection.weight: found shape torch.Size([768, 3, 16, 16]) in the checkpoint and torch.Size([128, 1, 16, 16]) in the model instantiated\n",
      "- embeddings.position_embeddings: found shape torch.Size([1, 197, 768]) in the checkpoint and torch.Size([1, 197, 128]) in the model instantiated\n",
      "- encoder.layer.0.attention.attention.key.bias: found shape torch.Size([768]) in the checkpoint and torch.Size([128]) in the model instantiated\n",
      "- encoder.layer.0.attention.attention.key.weight: found shape torch.Size([768, 768]) in the checkpoint and torch.Size([128, 128]) in the model instantiated\n",
      "- encoder.layer.0.attention.attention.query.bias: found shape torch.Size([768]) in the checkpoint and torch.Size([128]) in the model instantiated\n",
      "- encoder.layer.0.attention.attention.query.weight: found shape torch.Size([768, 768]) in the checkpoint and torch.Size([128, 128]) in the model instantiated\n",
      "- encoder.layer.0.attention.attention.value.bias: found shape torch.Size([768]) in the checkpoint and torch.Size([128]) in the model instantiated\n",
      "- encoder.layer.0.attention.attention.value.weight: found shape torch.Size([768, 768]) in the checkpoint and torch.Size([128, 128]) in the model instantiated\n",
      "- encoder.layer.0.attention.output.dense.bias: found shape torch.Size([768]) in the checkpoint and torch.Size([128]) in the model instantiated\n",
      "- encoder.layer.0.attention.output.dense.weight: found shape torch.Size([768, 768]) in the checkpoint and torch.Size([128, 128]) in the model instantiated\n",
      "- encoder.layer.0.intermediate.dense.bias: found shape torch.Size([3072]) in the checkpoint and torch.Size([128]) in the model instantiated\n",
      "- encoder.layer.0.intermediate.dense.weight: found shape torch.Size([3072, 768]) in the checkpoint and torch.Size([128, 128]) in the model instantiated\n",
      "- encoder.layer.0.layernorm_after.bias: found shape torch.Size([768]) in the checkpoint and torch.Size([128]) in the model instantiated\n",
      "- encoder.layer.0.layernorm_after.weight: found shape torch.Size([768]) in the checkpoint and torch.Size([128]) in the model instantiated\n",
      "- encoder.layer.0.layernorm_before.bias: found shape torch.Size([768]) in the checkpoint and torch.Size([128]) in the model instantiated\n",
      "- encoder.layer.0.layernorm_before.weight: found shape torch.Size([768]) in the checkpoint and torch.Size([128]) in the model instantiated\n",
      "- encoder.layer.0.output.dense.bias: found shape torch.Size([768]) in the checkpoint and torch.Size([128]) in the model instantiated\n",
      "- encoder.layer.0.output.dense.weight: found shape torch.Size([768, 3072]) in the checkpoint and torch.Size([128, 128]) in the model instantiated\n",
      "- encoder.layer.1.attention.attention.key.bias: found shape torch.Size([768]) in the checkpoint and torch.Size([128]) in the model instantiated\n",
      "- encoder.layer.1.attention.attention.key.weight: found shape torch.Size([768, 768]) in the checkpoint and torch.Size([128, 128]) in the model instantiated\n",
      "- encoder.layer.1.attention.attention.query.bias: found shape torch.Size([768]) in the checkpoint and torch.Size([128]) in the model instantiated\n",
      "- encoder.layer.1.attention.attention.query.weight: found shape torch.Size([768, 768]) in the checkpoint and torch.Size([128, 128]) in the model instantiated\n",
      "- encoder.layer.1.attention.attention.value.bias: found shape torch.Size([768]) in the checkpoint and torch.Size([128]) in the model instantiated\n",
      "- encoder.layer.1.attention.attention.value.weight: found shape torch.Size([768, 768]) in the checkpoint and torch.Size([128, 128]) in the model instantiated\n",
      "- encoder.layer.1.attention.output.dense.bias: found shape torch.Size([768]) in the checkpoint and torch.Size([128]) in the model instantiated\n",
      "- encoder.layer.1.attention.output.dense.weight: found shape torch.Size([768, 768]) in the checkpoint and torch.Size([128, 128]) in the model instantiated\n",
      "- encoder.layer.1.intermediate.dense.bias: found shape torch.Size([3072]) in the checkpoint and torch.Size([128]) in the model instantiated\n",
      "- encoder.layer.1.intermediate.dense.weight: found shape torch.Size([3072, 768]) in the checkpoint and torch.Size([128, 128]) in the model instantiated\n",
      "- encoder.layer.1.layernorm_after.bias: found shape torch.Size([768]) in the checkpoint and torch.Size([128]) in the model instantiated\n",
      "- encoder.layer.1.layernorm_after.weight: found shape torch.Size([768]) in the checkpoint and torch.Size([128]) in the model instantiated\n",
      "- encoder.layer.1.layernorm_before.bias: found shape torch.Size([768]) in the checkpoint and torch.Size([128]) in the model instantiated\n",
      "- encoder.layer.1.layernorm_before.weight: found shape torch.Size([768]) in the checkpoint and torch.Size([128]) in the model instantiated\n",
      "- encoder.layer.1.output.dense.bias: found shape torch.Size([768]) in the checkpoint and torch.Size([128]) in the model instantiated\n",
      "- encoder.layer.1.output.dense.weight: found shape torch.Size([768, 3072]) in the checkpoint and torch.Size([128, 128]) in the model instantiated\n",
      "- encoder.layer.2.attention.attention.key.bias: found shape torch.Size([768]) in the checkpoint and torch.Size([128]) in the model instantiated\n",
      "- encoder.layer.2.attention.attention.key.weight: found shape torch.Size([768, 768]) in the checkpoint and torch.Size([128, 128]) in the model instantiated\n",
      "- encoder.layer.2.attention.attention.query.bias: found shape torch.Size([768]) in the checkpoint and torch.Size([128]) in the model instantiated\n",
      "- encoder.layer.2.attention.attention.query.weight: found shape torch.Size([768, 768]) in the checkpoint and torch.Size([128, 128]) in the model instantiated\n",
      "- encoder.layer.2.attention.attention.value.bias: found shape torch.Size([768]) in the checkpoint and torch.Size([128]) in the model instantiated\n",
      "- encoder.layer.2.attention.attention.value.weight: found shape torch.Size([768, 768]) in the checkpoint and torch.Size([128, 128]) in the model instantiated\n",
      "- encoder.layer.2.attention.output.dense.bias: found shape torch.Size([768]) in the checkpoint and torch.Size([128]) in the model instantiated\n",
      "- encoder.layer.2.attention.output.dense.weight: found shape torch.Size([768, 768]) in the checkpoint and torch.Size([128, 128]) in the model instantiated\n",
      "- encoder.layer.2.intermediate.dense.bias: found shape torch.Size([3072]) in the checkpoint and torch.Size([128]) in the model instantiated\n",
      "- encoder.layer.2.intermediate.dense.weight: found shape torch.Size([3072, 768]) in the checkpoint and torch.Size([128, 128]) in the model instantiated\n",
      "- encoder.layer.2.layernorm_after.bias: found shape torch.Size([768]) in the checkpoint and torch.Size([128]) in the model instantiated\n",
      "- encoder.layer.2.layernorm_after.weight: found shape torch.Size([768]) in the checkpoint and torch.Size([128]) in the model instantiated\n",
      "- encoder.layer.2.layernorm_before.bias: found shape torch.Size([768]) in the checkpoint and torch.Size([128]) in the model instantiated\n",
      "- encoder.layer.2.layernorm_before.weight: found shape torch.Size([768]) in the checkpoint and torch.Size([128]) in the model instantiated\n",
      "- encoder.layer.2.output.dense.bias: found shape torch.Size([768]) in the checkpoint and torch.Size([128]) in the model instantiated\n",
      "- encoder.layer.2.output.dense.weight: found shape torch.Size([768, 3072]) in the checkpoint and torch.Size([128, 128]) in the model instantiated\n",
      "- encoder.layer.3.attention.attention.key.bias: found shape torch.Size([768]) in the checkpoint and torch.Size([128]) in the model instantiated\n",
      "- encoder.layer.3.attention.attention.key.weight: found shape torch.Size([768, 768]) in the checkpoint and torch.Size([128, 128]) in the model instantiated\n",
      "- encoder.layer.3.attention.attention.query.bias: found shape torch.Size([768]) in the checkpoint and torch.Size([128]) in the model instantiated\n",
      "- encoder.layer.3.attention.attention.query.weight: found shape torch.Size([768, 768]) in the checkpoint and torch.Size([128, 128]) in the model instantiated\n",
      "- encoder.layer.3.attention.attention.value.bias: found shape torch.Size([768]) in the checkpoint and torch.Size([128]) in the model instantiated\n",
      "- encoder.layer.3.attention.attention.value.weight: found shape torch.Size([768, 768]) in the checkpoint and torch.Size([128, 128]) in the model instantiated\n",
      "- encoder.layer.3.attention.output.dense.bias: found shape torch.Size([768]) in the checkpoint and torch.Size([128]) in the model instantiated\n",
      "- encoder.layer.3.attention.output.dense.weight: found shape torch.Size([768, 768]) in the checkpoint and torch.Size([128, 128]) in the model instantiated\n",
      "- encoder.layer.3.intermediate.dense.bias: found shape torch.Size([3072]) in the checkpoint and torch.Size([128]) in the model instantiated\n",
      "- encoder.layer.3.intermediate.dense.weight: found shape torch.Size([3072, 768]) in the checkpoint and torch.Size([128, 128]) in the model instantiated\n",
      "- encoder.layer.3.layernorm_after.bias: found shape torch.Size([768]) in the checkpoint and torch.Size([128]) in the model instantiated\n",
      "- encoder.layer.3.layernorm_after.weight: found shape torch.Size([768]) in the checkpoint and torch.Size([128]) in the model instantiated\n",
      "- encoder.layer.3.layernorm_before.bias: found shape torch.Size([768]) in the checkpoint and torch.Size([128]) in the model instantiated\n",
      "- encoder.layer.3.layernorm_before.weight: found shape torch.Size([768]) in the checkpoint and torch.Size([128]) in the model instantiated\n",
      "- encoder.layer.3.output.dense.bias: found shape torch.Size([768]) in the checkpoint and torch.Size([128]) in the model instantiated\n",
      "- encoder.layer.3.output.dense.weight: found shape torch.Size([768, 3072]) in the checkpoint and torch.Size([128, 128]) in the model instantiated\n",
      "- layernorm.bias: found shape torch.Size([768]) in the checkpoint and torch.Size([128]) in the model instantiated\n",
      "- layernorm.weight: found shape torch.Size([768]) in the checkpoint and torch.Size([128]) in the model instantiated\n",
      "You should probably TRAIN this model on a down-stream task to be able to use it for predictions and inference.\n"
     ]
    },
    {
     "data": {
      "text/plain": [
       "<All keys matched successfully>"
      ]
     },
     "execution_count": 15,
     "metadata": {},
     "output_type": "execute_result"
    }
   ],
   "source": [
    "# load small ViT\n",
    "model_name_or_path = \"google/vit-base-patch16-224-in21k\"\n",
    "title = model_name_or_path.replace('/', '_') + \"_standard\"\n",
    "# Load a pre-trained Vision Transformer model\n",
    "\n",
    "from transformers import ViTConfig\n",
    "\n",
    "# config a smaller ViT.\n",
    "configuration = ViTConfig(\n",
    "    num_labels=5,\n",
    "    # hidden_dropout_prob = 0.2,\n",
    "    # attention_probs_dropout_prob = 0.2\n",
    "    hidden_size=128,\n",
    "    num_hidden_layers=4,\n",
    "    num_attention_heads=4,\n",
    "    intermediate_size=128,\n",
    "    num_channels=1,\n",
    ")\n",
    "\n",
    "# Load a pre-trained Vision Transformer model\n",
    "model = ViTForImageClassification.from_pretrained(model_name_or_path, config=configuration, ignore_mismatched_sizes=True)\n",
    "\n",
    "device = torch.device(\"cuda:0\" if torch.cuda.is_available() else \"cpu\")\n",
    "# Move model to device\n",
    "model.to(device)\n",
    "# Load the state dict\n",
    "state_dict = torch.load('/home/mengjingliu/ADL_unsupervised_learning/ViT/results/best_model_smallViT_google_vit-base-patch16-224-in21k.pth')\n",
    "\n",
    "# Load the state dict into the model\n",
    "model.load_state_dict(state_dict)"
   ]
  },
  {
   "cell_type": "code",
   "execution_count": 12,
   "metadata": {},
   "outputs": [
    {
     "name": "stderr",
     "output_type": "stream",
     "text": [
      "Some weights of ViTForImageClassification were not initialized from the model checkpoint at google/vit-base-patch16-224-in21k and are newly initialized: ['classifier.bias', 'classifier.weight']\n",
      "You should probably TRAIN this model on a down-stream task to be able to use it for predictions and inference.\n"
     ]
    },
    {
     "data": {
      "text/plain": [
       "<All keys matched successfully>"
      ]
     },
     "execution_count": 12,
     "metadata": {},
     "output_type": "execute_result"
    }
   ],
   "source": [
    "# Load LoRA\n",
    "# load model from .pth\n",
    "model_name_or_path = \"google/vit-base-patch16-224-in21k\"\n",
    "title = model_name_or_path.replace('/', '_') + \"_standard\"\n",
    "# Load a pre-trained Vision Transformer model\n",
    "model = ViTForImageClassification.from_pretrained(model_name_or_path, num_labels=5)\n",
    "\n",
    "from peft import LoraConfig, get_peft_model\n",
    "\n",
    "config = LoraConfig(\n",
    "    r=16,\n",
    "    lora_alpha=16,\n",
    "    target_modules=[\"query\", \"value\"],\n",
    "    lora_dropout=0.1,\n",
    "    bias=\"none\",\n",
    "    modules_to_save=[\"classifier\"],\n",
    ")\n",
    "model = get_peft_model(model, config)\n",
    "\n",
    "device = torch.device(\"cuda:0\" if torch.cuda.is_available() else \"cpu\")\n",
    "# Move model to device\n",
    "model.to(device)\n",
    "# Load the state dict\n",
    "state_dict = torch.load('/home/mengjingliu/ADL_unsupervised_learning/ViT/results/best_model_google_vit-base-patch16-224-in21k_LoRA.pth')\n",
    "\n",
    "# Load the state dict into the model\n",
    "model.load_state_dict(state_dict)"
   ]
  },
  {
   "cell_type": "code",
   "execution_count": 8,
   "metadata": {},
   "outputs": [],
   "source": [
    "# load test data from .npy\n",
    "import torch.nn.functional as F\n",
    "X_test = np.load(\"/home/mengjingliu/ADL_unsupervised_learning/ViT/X_test.npy\")\n",
    "y_test = np.load(\"/home/mengjingliu/ADL_unsupervised_learning/ViT/y_test.npy\")\n",
    "\n",
    "X_test, y_test = torch.from_numpy(X_test).float(), torch.from_numpy(y_test).long()\n",
    "X_test = F.interpolate(X_test, size=(224, 224), mode='bilinear', align_corners=False)\n",
    "# X_test = X_test.repeat(1, 3, 1, 1)"
   ]
  },
  {
   "cell_type": "code",
   "execution_count": 16,
   "metadata": {},
   "outputs": [
    {
     "name": "stdout",
     "output_type": "stream",
     "text": [
      "Testing accuracy: 0.8481675386428833\n"
     ]
    }
   ],
   "source": [
    "# evaluate model \n",
    "model.eval()\n",
    "with torch.no_grad():\n",
    "    inputs = X_test.to(device)\n",
    "    outputs = model(inputs).logits.to(\"cpu\")\n",
    "\n",
    "accuracy = Accuracy(task=\"multiclass\", num_classes=5).to(device)\n",
    "accuracy = accuracy(outputs, y_test)\n",
    "print(f'Testing accuracy: {accuracy}')\n"
   ]
  },
  {
   "cell_type": "code",
   "execution_count": null,
   "metadata": {},
   "outputs": [],
   "source": []
  }
 ],
 "metadata": {
  "kernelspec": {
   "display_name": "llm",
   "language": "python",
   "name": "python3"
  },
  "language_info": {
   "codemirror_mode": {
    "name": "ipython",
    "version": 3
   },
   "file_extension": ".py",
   "mimetype": "text/x-python",
   "name": "python",
   "nbconvert_exporter": "python",
   "pygments_lexer": "ipython3",
   "version": "3.8.19"
  }
 },
 "nbformat": 4,
 "nbformat_minor": 2
}
